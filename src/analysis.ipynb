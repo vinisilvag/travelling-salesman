{
 "cells": [
  {
   "cell_type": "markdown",
   "id": "d2ce8d8e-1bed-473d-9af4-ad8e1b3ec8a4",
   "metadata": {},
   "source": [
    "# __Análise dos resultados da Experimentação__\n",
    "\n",
    "Esse notebook será usado apenas para analisar os dados resultantes do processo de experimentação. Esses dados serão importados e carregados para que algumas métricas possam ser observadas e, por conseguinte, algumas conclusões possam ser tiradas. Todas as conclusões e discussões levantadas a partir da visualização dos dados serão melhor apresentadas no relatório do trabalho."
   ]
  },
  {
   "cell_type": "code",
   "execution_count": 1,
   "id": "47de540f-69e0-4237-8f5f-ac2e5e2f41d1",
   "metadata": {},
   "outputs": [],
   "source": [
    "import numpy as np\n",
    "import pandas as pd\n",
    "import matplotlib.pyplot as plt\n",
    "\n",
    "plt.rcParams['figure.figsize']  = (12, 6)\n",
    "plt.rcParams['axes.labelsize']  = 12\n",
    "plt.rcParams['axes.titlesize']  = 12\n",
    "plt.rcParams['legend.fontsize'] = 12\n",
    "plt.rcParams['xtick.labelsize'] = 12\n",
    "plt.rcParams['ytick.labelsize'] = 12\n",
    "plt.rcParams['lines.linewidth'] = 1\n",
    "\n",
    "plt.ion()\n",
    "plt.style.use('seaborn-colorblind')"
   ]
  },
  {
   "cell_type": "markdown",
   "id": "79c8d596-abb6-47df-8028-d1edbf190d11",
   "metadata": {},
   "source": [
    "Os dados são importados de um arquivo CSV que contém as seguintes colunas:\n",
    "\n",
    "- ___solver___: qual algoritmo/estratégia foi utilizada para resolver o problema do Caixeiro Viajante;\n",
    "- ___entrie___: a identificação da entrada, dada pelo número de nós presentes no grafo;\n",
    "- ___metric___: qual a métrica de distância entre os nós no grafo (distância Euclidiana ou Manhattan);\n",
    "- ___path___: a sequência de nós percorrida pelo algoritmo que resolve o problema;\n",
    "- ___cost___: a distância total percorrida pelo caminho retornado pelo algoritmo;\n",
    "- ___time___: quanto tempo o algoritmo demorou para retornar os resultados (em milisegundos);\n",
    "- ___space___: ?"
   ]
  },
  {
   "cell_type": "code",
   "execution_count": 2,
   "id": "d6dd69a9-640f-4d5a-9f96-b958af72b45a",
   "metadata": {},
   "outputs": [
    {
     "data": {
      "text/html": [
       "<div>\n",
       "<style scoped>\n",
       "    .dataframe tbody tr th:only-of-type {\n",
       "        vertical-align: middle;\n",
       "    }\n",
       "\n",
       "    .dataframe tbody tr th {\n",
       "        vertical-align: top;\n",
       "    }\n",
       "\n",
       "    .dataframe thead th {\n",
       "        text-align: right;\n",
       "    }\n",
       "</style>\n",
       "<table border=\"1\" class=\"dataframe\">\n",
       "  <thead>\n",
       "    <tr style=\"text-align: right;\">\n",
       "      <th></th>\n",
       "      <th>solver</th>\n",
       "      <th>entrie</th>\n",
       "      <th>metric</th>\n",
       "      <th>path</th>\n",
       "      <th>cost</th>\n",
       "      <th>time</th>\n",
       "      <th>space</th>\n",
       "    </tr>\n",
       "  </thead>\n",
       "  <tbody>\n",
       "    <tr>\n",
       "      <th>0</th>\n",
       "      <td>branch-and-bound</td>\n",
       "      <td>2^4</td>\n",
       "      <td>euclidean</td>\n",
       "      <td>[0, 4, 7, 9, 6, 14, 8, 13, 11, 3, 2, 12, 5, 15...</td>\n",
       "      <td>961.0</td>\n",
       "      <td>287730.015170</td>\n",
       "      <td>127696653.0</td>\n",
       "    </tr>\n",
       "    <tr>\n",
       "      <th>1</th>\n",
       "      <td>branch-and-bound</td>\n",
       "      <td>2^4</td>\n",
       "      <td>manhattan</td>\n",
       "      <td>[0, 4, 7, 9, 10, 1, 15, 5, 12, 2, 3, 11, 13, 8...</td>\n",
       "      <td>1166.0</td>\n",
       "      <td>187857.253955</td>\n",
       "      <td>82134485.0</td>\n",
       "    </tr>\n",
       "    <tr>\n",
       "      <th>2</th>\n",
       "      <td>twice-around-the-tree</td>\n",
       "      <td>2^4</td>\n",
       "      <td>euclidean</td>\n",
       "      <td>[0, 4, 7, 9, 6, 14, 8, 10, 1, 15, 5, 12, 3, 2,...</td>\n",
       "      <td>1076.0</td>\n",
       "      <td>2.630283</td>\n",
       "      <td>34697.0</td>\n",
       "    </tr>\n",
       "    <tr>\n",
       "      <th>3</th>\n",
       "      <td>twice-around-the-tree</td>\n",
       "      <td>2^4</td>\n",
       "      <td>manhattan</td>\n",
       "      <td>[0, 4, 7, 9, 6, 10, 3, 2, 11, 13, 15, 1, 5, 12...</td>\n",
       "      <td>1558.0</td>\n",
       "      <td>4.240884</td>\n",
       "      <td>34561.0</td>\n",
       "    </tr>\n",
       "    <tr>\n",
       "      <th>4</th>\n",
       "      <td>christofides</td>\n",
       "      <td>2^4</td>\n",
       "      <td>euclidean</td>\n",
       "      <td>[0, 4, 7, 9, 6, 14, 8, 13, 11, 2, 3, 15, 1, 10...</td>\n",
       "      <td>1082.0</td>\n",
       "      <td>9.681829</td>\n",
       "      <td>148325.0</td>\n",
       "    </tr>\n",
       "  </tbody>\n",
       "</table>\n",
       "</div>"
      ],
      "text/plain": [
       "                  solver entrie     metric  \\\n",
       "0       branch-and-bound    2^4  euclidean   \n",
       "1       branch-and-bound    2^4  manhattan   \n",
       "2  twice-around-the-tree    2^4  euclidean   \n",
       "3  twice-around-the-tree    2^4  manhattan   \n",
       "4           christofides    2^4  euclidean   \n",
       "\n",
       "                                                path    cost           time  \\\n",
       "0  [0, 4, 7, 9, 6, 14, 8, 13, 11, 3, 2, 12, 5, 15...   961.0  287730.015170   \n",
       "1  [0, 4, 7, 9, 10, 1, 15, 5, 12, 2, 3, 11, 13, 8...  1166.0  187857.253955   \n",
       "2  [0, 4, 7, 9, 6, 14, 8, 10, 1, 15, 5, 12, 3, 2,...  1076.0       2.630283   \n",
       "3  [0, 4, 7, 9, 6, 10, 3, 2, 11, 13, 15, 1, 5, 12...  1558.0       4.240884   \n",
       "4  [0, 4, 7, 9, 6, 14, 8, 13, 11, 2, 3, 15, 1, 10...  1082.0       9.681829   \n",
       "\n",
       "         space  \n",
       "0  127696653.0  \n",
       "1   82134485.0  \n",
       "2      34697.0  \n",
       "3      34561.0  \n",
       "4     148325.0  "
      ]
     },
     "execution_count": 2,
     "metadata": {},
     "output_type": "execute_result"
    }
   ],
   "source": [
    "path = \"../experiments/output.csv\"\n",
    "df = pd.read_csv(path)\n",
    "\n",
    "df.head(10)"
   ]
  },
  {
   "cell_type": "code",
   "execution_count": null,
   "id": "a85e1bea-bab5-45b8-a843-5d707a50d2de",
   "metadata": {},
   "outputs": [],
   "source": []
  }
 ],
 "metadata": {
  "kernelspec": {
   "display_name": "Python 3 (ipykernel)",
   "language": "python",
   "name": "python3"
  },
  "language_info": {
   "codemirror_mode": {
    "name": "ipython",
    "version": 3
   },
   "file_extension": ".py",
   "mimetype": "text/x-python",
   "name": "python",
   "nbconvert_exporter": "python",
   "pygments_lexer": "ipython3",
   "version": "3.10.6"
  }
 },
 "nbformat": 4,
 "nbformat_minor": 5
}
